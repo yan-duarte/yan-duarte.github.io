{
 "cells": [
  {
   "cell_type": "code",
   "execution_count": 1,
   "metadata": {
    "collapsed": true
   },
   "outputs": [],
   "source": [
    "%matplotlib inline\n",
    "\n",
    "import pandas\n",
    "import sklearn.metrics\n",
    "import statistics\n",
    "import numpy as np\n",
    "import matplotlib.pylab as plt\n",
    "from sklearn.cross_validation import train_test_split\n",
    "from sklearn.ensemble import RandomForestClassifier\n",
    "from sklearn.ensemble import ExtraTreesClassifier\n",
    "\n",
    "# bug fix for display formats to avoid run time errors\n",
    "pandas.set_option('display.float_format', lambda x:'%.2f'%x)\n",
    "\n",
    "#load the data\n",
    "data = pandas.read_csv('..\\separatedData.csv')\n",
    "\n",
    "# convert to numeric format\n",
    "data[\"breastCancer100th\"] = pandas.to_numeric(data[\"breastCancer100th\"], errors='coerce')\n",
    "data[\"meanSugarPerson\"]   = pandas.to_numeric(data[\"meanSugarPerson\"], errors='coerce')\n",
    "data[\"meanFoodPerson\"]   = pandas.to_numeric(data[\"meanFoodPerson\"], errors='coerce')\n",
    "data[\"meanCholesterol\"]   = pandas.to_numeric(data[\"meanCholesterol\"], errors='coerce')\n",
    "\n",
    "# listwise deletion of missing values\n",
    "sub1 = data[['breastCancer100th', 'meanFoodPerson', 'meanCholesterol', 'meanSugarPerson']].dropna()"
   ]
  },
  {
   "cell_type": "code",
   "execution_count": 2,
   "metadata": {
    "collapsed": true
   },
   "outputs": [],
   "source": [
    "# Create the conditions to a new variable named incidence_cancer that will categorize the meanSugarPerson answers\n",
    "meanIncidence = statistics.mean(sub1['breastCancer100th'])\n",
    "\n",
    "def incidence_cancer (row):\n",
    "    if row['breastCancer100th'] <= meanIncidence : return 0   # Incidence of breast cancer is below the \n",
    "                                                              # average of the incidence of all countries.\n",
    "    if row['breastCancer100th'] > meanIncidence  : return 1   # Incidence of breast cancer is above the average \n",
    "                                                              # of the incidence of all countries.\n",
    "\n",
    "# Add the new variable sugar_consumption to subData\n",
    "sub1['incidence_cancer'] = sub1.apply (lambda row: incidence_cancer (row),axis=1)"
   ]
  },
  {
   "cell_type": "code",
   "execution_count": 3,
   "metadata": {
    "collapsed": false
   },
   "outputs": [],
   "source": [
    "#Split into training and testing sets\n",
    "predictors = sub1[[ 'meanSugarPerson', 'meanFoodPerson', 'meanCholesterol']]\n",
    "targets = sub1['incidence_cancer']\n",
    "\n",
    "#Train = 60%, Test = 40%\n",
    "pred_train, pred_test, tar_train, tar_test = train_test_split(predictors, targets, test_size=.4)"
   ]
  },
  {
   "cell_type": "code",
   "execution_count": 4,
   "metadata": {
    "collapsed": false
   },
   "outputs": [
    {
     "name": "stdout",
     "output_type": "stream",
     "text": [
      "[[31  3]\n",
      " [ 2 16]]\n",
      "0.903846153846\n",
      "[ 0.21311057  0.38723056  0.39965887]\n"
     ]
    }
   ],
   "source": [
    "#Build model on training data\n",
    "classifier=RandomForestClassifier(n_estimators=25)\n",
    "classifier=classifier.fit(pred_train,tar_train)\n",
    "\n",
    "predictions=classifier.predict(pred_test)\n",
    "\n",
    "confusion_matrix = sklearn.metrics.confusion_matrix(tar_test,predictions)\n",
    "accuracy_score = sklearn.metrics.accuracy_score(tar_test, predictions)\n",
    "\n",
    "print (confusion_matrix)\n",
    "print (accuracy_score)\n",
    "\n",
    "\n",
    "# fit an Extra Trees model to the data\n",
    "model = ExtraTreesClassifier()\n",
    "model.fit(pred_train,tar_train)\n",
    "# display the relative importance of each attribute\n",
    "print(model.feature_importances_)"
   ]
  },
  {
   "cell_type": "code",
   "execution_count": 5,
   "metadata": {
    "collapsed": false
   },
   "outputs": [
    {
     "data": {
      "text/plain": [
       "[<matplotlib.lines.Line2D at 0x7f35c82d30>]"
      ]
     },
     "execution_count": 5,
     "metadata": {},
     "output_type": "execute_result"
    },
    {
     "data": {
      "image/png": "[encoded data removed]",
      "text/plain": [
       "<matplotlib.figure.Figure at 0x7f35c823c8>"
      ]
     },
     "metadata": {},
     "output_type": "display_data"
    }
   ],
   "source": [
    "\"\"\"\n",
    "Running a different number of trees and see the effect\n",
    " of that on the accuracy of the prediction\n",
    "\"\"\"\n",
    "\n",
    "trees=range(25)\n",
    "accuracy=np.zeros(25)\n",
    "\n",
    "for idx in range(len(trees)):\n",
    "    classifier=RandomForestClassifier(n_estimators=idx + 1)\n",
    "    classifier=classifier.fit(pred_train,tar_train)\n",
    "    predictions=classifier.predict(pred_test)\n",
    "    accuracy[idx]=sklearn.metrics.accuracy_score(tar_test, predictions)\n",
    "    \n",
    "plt.cla()\n",
    "plt.plot(trees, accuracy)"
   ]
  },
  {
   "cell_type": "code",
   "execution_count": 6,
   "metadata": {
    "collapsed": false
   },
   "outputs": [
    {
     "name": "stdout",
     "output_type": "stream",
     "text": [
      "[ 0.84615385  0.80769231  0.80769231  0.86538462  0.88461538  0.84615385\n",
      "  0.90384615  0.88461538  0.88461538  0.90384615  0.88461538  0.86538462\n",
      "  0.86538462  0.88461538  0.88461538  0.88461538  0.88461538  0.88461538\n",
      "  0.86538462  0.84615385  0.86538462  0.84615385  0.88461538  0.88461538\n",
      "  0.86538462]\n"
     ]
    }
   ],
   "source": [
    "print(accuracy)"
   ]
  },
  {
   "cell_type": "code",
   "execution_count": 8,
   "metadata": {
    "collapsed": false
   },
   "outputs": [
    {
     "data": {
      "text/plain": [
       "0.86923076923076925"
      ]
     },
     "execution_count": 8,
     "metadata": {},
     "output_type": "execute_result"
    }
   ],
   "source": [
    "statistics.mean(accuracy)"
   ]
  }
 ],
 "metadata": {
  "anaconda-cloud": {},
  "kernelspec": {
   "display_name": "Python [Root]",
   "language": "python",
   "name": "Python [Root]"
  },
  "language_info": {
   "codemirror_mode": {
    "name": "ipython",
    "version": 3
   },
   "file_extension": ".py",
   "mimetype": "text/x-python",
   "name": "python",
   "nbconvert_exporter": "python",
   "pygments_lexer": "ipython3",
   "version": "3.5.2"
  }
 },
 "nbformat": 4,
 "nbformat_minor": 0
}
